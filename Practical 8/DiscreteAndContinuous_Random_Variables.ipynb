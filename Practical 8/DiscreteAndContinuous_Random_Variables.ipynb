{
  "nbformat": 4,
  "nbformat_minor": 0,
  "metadata": {
    "colab": {
      "name": "DiscreteAndContinuous Random Variables.ipynb",
      "provenance": [],
      "collapsed_sections": [],
      "include_colab_link": true
    },
    "kernelspec": {
      "name": "python3",
      "display_name": "Python 3"
    }
  },
  "cells": [
    {
      "cell_type": "markdown",
      "metadata": {
        "id": "view-in-github",
        "colab_type": "text"
      },
      "source": [
        "<a href=\"https://colab.research.google.com/github/soniyamishra/FDS/blob/main/Practical%208/DiscreteAndContinuous_Random_Variables.ipynb\" target=\"_parent\"><img src=\"https://colab.research.google.com/assets/colab-badge.svg\" alt=\"Open In Colab\"/></a>"
      ]
    },
    {
      "cell_type": "markdown",
      "metadata": {
        "id": "yPltzW6aPHX8"
      },
      "source": [
        "**What is Sample Space**\r\n",
        "\r\n",
        "The range of all possible outcomes of an experiment is known as 'Sample Space'.\r\n",
        "---------------------------------------------------------------------------\r\n",
        "\r\n",
        "**What is Random Variable**\r\n",
        "\r\n",
        "A random variable is a function which can take on any value from the sample space & having range of some set of real numbers is known as the random variable.\r\n",
        "---------------------------------------------------------------------------\r\n",
        "\r\n",
        "**What is a Discrete Variable?**\r\n",
        "\r\n",
        "Discrete variables are countable in a finite amount of time. For example, you can count the change in your pocket. You can count the money in your bank account. You could also count the amount of money in everyone’s bank accounts. It might take you a long time to count that last item, but the point is—it’s still countable.\r\n",
        "\r\n",
        "**What is a Continuous Variable?**\r\n",
        "\r\n",
        "Continuous Variables would (literally) take forever to count. In fact, you would get to “forever” and never finish counting them. For example, take age. You can’t count “age”. Why not? Because it would literally take forever. For example, you could be:\r\n",
        "25 years, 10 months, 2 days, 5 hours, 4 seconds, 4 milliseconds, 8 nanoseconds, 99 picosends…and so on.\r\n",
        "\r\n"
      ]
    },
    {
      "cell_type": "markdown",
      "metadata": {
        "id": "siP1EfBty4-2"
      },
      "source": [
        "Choice() function\r\n",
        "Example using function choice() from random model. This will genarate a random value from the given set of choices.\r\n"
      ]
    },
    {
      "cell_type": "code",
      "metadata": {
        "colab": {
          "base_uri": "https://localhost:8080/"
        },
        "id": "d09esElTvNBW",
        "outputId": "8d44f438-f904-4fd8-ce17-f96cdfb8c865"
      },
      "source": [
        "from numpy.random import choice\r\n",
        "choice([1, 2, 3], p=[0.2, 0.5, 0.3])"
      ],
      "execution_count": null,
      "outputs": [
        {
          "output_type": "execute_result",
          "data": {
            "text/plain": [
              "3"
            ]
          },
          "metadata": {
            "tags": []
          },
          "execution_count": 13
        }
      ]
    },
    {
      "cell_type": "markdown",
      "metadata": {
        "id": "TKAgb1zR2-33"
      },
      "source": [
        "The below code counts the number of time the digit or value appears in the set.\r\n",
        "The below code generates the value for relative frequincies for the given set of code.\r\n"
      ]
    },
    {
      "cell_type": "code",
      "metadata": {
        "colab": {
          "base_uri": "https://localhost:8080/"
        },
        "id": "aWJgS8kw07hG",
        "outputId": "f619a54d-e828-40ae-90b5-49ab2d5d1dbb"
      },
      "source": [
        "def count_frequencies(data, relative=False):\r\n",
        "  counter = {}\r\n",
        "  for element in data:\r\n",
        "    if element not in counter: \r\n",
        "      #get this element for the first time\r\n",
        "      counter[element] = 1\r\n",
        "    else:\r\n",
        "      counter[element] = counter[element] + 1\r\n",
        "  if relative:\r\n",
        "    for element in counter:\r\n",
        "      counter[element] = counter[element] / len(data)\r\n",
        "      #counter[element]/=len(data)\r\n",
        "  return counter\r\n",
        "print(count_frequencies([1, 1, 2, 1]))\r\n",
        "print(count_frequencies([1, 1, 2, 1], relative=True))"
      ],
      "execution_count": null,
      "outputs": [
        {
          "output_type": "stream",
          "text": [
            "{1: 3, 2: 1}\n",
            "{1: 0.75, 2: 0.25}\n"
          ],
          "name": "stdout"
        }
      ]
    },
    {
      "cell_type": "markdown",
      "metadata": {
        "id": "6h_HBMLN-T6m"
      },
      "source": [
        "Now we will generate a sample space of a particular range and generate the relative frequency. "
      ]
    },
    {
      "cell_type": "code",
      "metadata": {
        "colab": {
          "base_uri": "https://localhost:8080/"
        },
        "id": "EvbS8uAs-qDW",
        "outputId": "cad87b92-bfa2-4239-80d0-e431f9e501a0"
      },
      "source": [
        "sample = [choice([1, 2, 3], p=[0.2, 0.5, 0.3]) for _ in range(10000)]\r\n",
        "\r\n",
        "count_frequencies(sample, relative=True)"
      ],
      "execution_count": null,
      "outputs": [
        {
          "output_type": "execute_result",
          "data": {
            "text/plain": [
              "{1: 0.1951, 2: 0.5016, 3: 0.3033}"
            ]
          },
          "metadata": {
            "tags": []
          },
          "execution_count": 37
        }
      ]
    },
    {
      "cell_type": "markdown",
      "metadata": {
        "id": "_orsWnfgColn"
      },
      "source": [
        "To genaerate the sample space in a array format in a particular range of data.\r\n"
      ]
    },
    {
      "cell_type": "code",
      "metadata": {
        "colab": {
          "base_uri": "https://localhost:8080/"
        },
        "id": "oC-LVi52C7wm",
        "outputId": "ca80873b-09fd-40c1-fbd5-f2aaea1e76e6"
      },
      "source": [
        "sample = choice([1, 2, 4], size = 10000, p = [0.2, 0.5, 0.3])\r\n",
        "sample"
      ],
      "execution_count": null,
      "outputs": [
        {
          "output_type": "execute_result",
          "data": {
            "text/plain": [
              "array([2, 2, 2, ..., 2, 4, 2])"
            ]
          },
          "metadata": {
            "tags": []
          },
          "execution_count": 33
        }
      ]
    },
    {
      "cell_type": "markdown",
      "metadata": {
        "id": "dVFik_2BDalt"
      },
      "source": [
        "To generate a bar plot of random values we need to add matplotlib libraries. This library is used to plot graps and charts.\r\n"
      ]
    },
    {
      "cell_type": "code",
      "metadata": {
        "colab": {
          "base_uri": "https://localhost:8080/",
          "height": 282
        },
        "id": "Ud4u59BlDvPm",
        "outputId": "6dbf41cd-6ad4-4835-c5d9-1ebc8debebb2"
      },
      "source": [
        "import matplotlib.pyplot as plt\r\n",
        "freqs = count_frequencies(sample, relative=True)\r\n",
        "%matplotlib inline\r\n",
        "plt.bar(list(freqs.keys()), list(freqs.values()))"
      ],
      "execution_count": null,
      "outputs": [
        {
          "output_type": "execute_result",
          "data": {
            "text/plain": [
              "<BarContainer object of 3 artists>"
            ]
          },
          "metadata": {
            "tags": []
          },
          "execution_count": 34
        },
        {
          "output_type": "display_data",
          "data": {
            "image/png": "[encoded data removed]",
            "text/plain": [
              "<Figure size 432x288 with 1 Axes>"
            ]
          },
          "metadata": {
            "tags": [],
            "needs_background": "light"
          }
        }
      ]
    },
    {
      "cell_type": "markdown",
      "metadata": {
        "id": "NVK5wRzYFhhv"
      },
      "source": [
        "**BINOMIAL FUNCTIONS** "
      ]
    },
    {
      "cell_type": "markdown",
      "metadata": {
        "id": "u5jXnkLjJBgv"
      },
      "source": [
        "**What are binomial functions?**\r\n",
        "\r\n",
        "The random variable X that represents the number of successes in those n trials is called a binomial random variable, and is determined by the values of n and p. "
      ]
    },
    {
      "cell_type": "code",
      "metadata": {
        "colab": {
          "base_uri": "https://localhost:8080/"
        },
        "id": "OgoScxBOJAEx",
        "outputId": "7a4c5371-06a8-43b7-d953-2daab9188f26"
      },
      "source": [
        "from numpy.random import binomial\r\n",
        "binomial(10, 0.3)"
      ],
      "execution_count": null,
      "outputs": [
        {
          "output_type": "execute_result",
          "data": {
            "text/plain": [
              "2"
            ]
          },
          "metadata": {
            "tags": []
          },
          "execution_count": 44
        }
      ]
    },
    {
      "cell_type": "markdown",
      "metadata": {
        "id": "lB-Q7cuQKA3_"
      },
      "source": [
        "We can determine size parameter to the function to generate the result in array forat"
      ]
    },
    {
      "cell_type": "code",
      "metadata": {
        "colab": {
          "base_uri": "https://localhost:8080/"
        },
        "id": "bQCTqSC9KTVP",
        "outputId": "677d2d2c-bf08-4ed4-e80c-1152bf2a677e"
      },
      "source": [
        "binomial(10, 0.3, size=100)"
      ],
      "execution_count": null,
      "outputs": [
        {
          "output_type": "execute_result",
          "data": {
            "text/plain": [
              "array([4, 3, 3, 4, 4, 3, 2, 2, 7, 3, 0, 5, 4, 4, 2, 4, 5, 2, 3, 2, 1, 2,\n",
              "       3, 2, 7, 3, 2, 4, 3, 2, 4, 2, 4, 4, 3, 4, 5, 2, 1, 6, 1, 3, 3, 6,\n",
              "       2, 5, 3, 2, 3, 5, 4, 1, 5, 4, 3, 1, 3, 2, 4, 2, 3, 3, 1, 5, 4, 3,\n",
              "       3, 5, 5, 3, 3, 1, 2, 4, 5, 5, 2, 2, 2, 2, 3, 4, 2, 3, 2, 5, 0, 4,\n",
              "       3, 3, 3, 3, 4, 1, 1, 2, 0, 2, 4, 4])"
            ]
          },
          "metadata": {
            "tags": []
          },
          "execution_count": 45
        }
      ]
    },
    {
      "cell_type": "markdown",
      "metadata": {
        "id": "0JyDL59vKVg_"
      },
      "source": [
        "Now we will generate count frequencies for the binomial functional data."
      ]
    },
    {
      "cell_type": "code",
      "metadata": {
        "colab": {
          "base_uri": "https://localhost:8080/"
        },
        "id": "lnxQyvQJTR5g",
        "outputId": "bf3c9bc2-3d6c-4613-bd71-0d9bca4506e0"
      },
      "source": [
        "samplebn = binomial(10, 0.3, size=100)\r\n",
        "count_frequencies(samplebn, relative=True)"
      ],
      "execution_count": null,
      "outputs": [
        {
          "output_type": "execute_result",
          "data": {
            "text/plain": [
              "{0: 0.03, 1: 0.11, 2: 0.27, 3: 0.29, 4: 0.15, 5: 0.11, 6: 0.04}"
            ]
          },
          "metadata": {
            "tags": []
          },
          "execution_count": 63
        }
      ]
    },
    {
      "cell_type": "markdown",
      "metadata": {
        "id": "lauvINTqUltP"
      },
      "source": [
        "The below example is used to generate Probability Mass Function of the given data using scipy library. pmf() function is used to generate the Probability Mass Function."
      ]
    },
    {
      "cell_type": "code",
      "metadata": {
        "colab": {
          "base_uri": "https://localhost:8080/"
        },
        "id": "RS5u2xM-UEg_",
        "outputId": "020ef72a-9e49-4553-b589-cd3ed00e32b8"
      },
      "source": [
        "from scipy.stats import binom\r\n",
        "\r\n",
        "X = binom(10, 0.3)\r\n",
        "\r\n",
        "X.pmf(1)"
      ],
      "execution_count": null,
      "outputs": [
        {
          "output_type": "execute_result",
          "data": {
            "text/plain": [
              "0.12106082100000018"
            ]
          },
          "metadata": {
            "tags": []
          },
          "execution_count": 53
        }
      ]
    },
    {
      "cell_type": "markdown",
      "metadata": {
        "id": "PTRjdvD8SFLc"
      },
      "source": [
        "Now we will generate the the array range of the set of data and then we will genarate a gaph for the data of binomial function."
      ]
    },
    {
      "cell_type": "code",
      "metadata": {
        "colab": {
          "base_uri": "https://localhost:8080/"
        },
        "id": "SsNWorvEWUu5",
        "outputId": "87603f96-1a35-4cf6-c35a-7adad46b7e15"
      },
      "source": [
        "import matplotlib.pyplot as plt\r\n",
        "%matplotlib inline\r\n",
        "import numpy as np\r\n",
        "\r\n",
        "x = np.arange(0, 10, 0.1)\r\n",
        "x"
      ],
      "execution_count": null,
      "outputs": [
        {
          "output_type": "execute_result",
          "data": {
            "text/plain": [
              "array([0. , 0.1, 0.2, 0.3, 0.4, 0.5, 0.6, 0.7, 0.8, 0.9, 1. , 1.1, 1.2,\n",
              "       1.3, 1.4, 1.5, 1.6, 1.7, 1.8, 1.9, 2. , 2.1, 2.2, 2.3, 2.4, 2.5,\n",
              "       2.6, 2.7, 2.8, 2.9, 3. , 3.1, 3.2, 3.3, 3.4, 3.5, 3.6, 3.7, 3.8,\n",
              "       3.9, 4. , 4.1, 4.2, 4.3, 4.4, 4.5, 4.6, 4.7, 4.8, 4.9, 5. , 5.1,\n",
              "       5.2, 5.3, 5.4, 5.5, 5.6, 5.7, 5.8, 5.9, 6. , 6.1, 6.2, 6.3, 6.4,\n",
              "       6.5, 6.6, 6.7, 6.8, 6.9, 7. , 7.1, 7.2, 7.3, 7.4, 7.5, 7.6, 7.7,\n",
              "       7.8, 7.9, 8. , 8.1, 8.2, 8.3, 8.4, 8.5, 8.6, 8.7, 8.8, 8.9, 9. ,\n",
              "       9.1, 9.2, 9.3, 9.4, 9.5, 9.6, 9.7, 9.8, 9.9])"
            ]
          },
          "metadata": {
            "tags": []
          },
          "execution_count": 55
        }
      ]
    },
    {
      "cell_type": "code",
      "metadata": {
        "colab": {
          "base_uri": "https://localhost:8080/",
          "height": 282
        },
        "id": "b3K0_X6WW8b_",
        "outputId": "bbeabad1-6113-4dad-c938-5141f6230fc1"
      },
      "source": [
        "plt.plot(x, X.pmf(x), 'o')"
      ],
      "execution_count": null,
      "outputs": [
        {
          "output_type": "execute_result",
          "data": {
            "text/plain": [
              "[<matplotlib.lines.Line2D at 0x7fbfa655eb10>]"
            ]
          },
          "metadata": {
            "tags": []
          },
          "execution_count": 61
        },
        {
          "output_type": "display_data",
          "data": {
            "image/png": "[encoded data removed]",
            "text/plain": [
              "<Figure size 432x288 with 1 Axes>"
            ]
          },
          "metadata": {
            "tags": [],
            "needs_background": "light"
          }
        }
      ]
    },
    {
      "cell_type": "markdown",
      "metadata": {
        "id": "Oq_jksH3XoxP"
      },
      "source": [
        "Now we will generate the bar graph for the count frequiencies for the binomial set.\r\n"
      ]
    },
    {
      "cell_type": "code",
      "metadata": {
        "colab": {
          "base_uri": "https://localhost:8080/",
          "height": 282
        },
        "id": "ZSdhkNVWXziP",
        "outputId": "fb7f0a16-3740-4836-f377-8cd02822f144"
      },
      "source": [
        "freqsbn = count_frequencies(samplebn, relative=True)\r\n",
        "plt.plot(x, X.pmf(x), 'o', color='blue')\r\n",
        "plt.bar(list(freqsbn.keys()), list(freqsbn.values()))"
      ],
      "execution_count": null,
      "outputs": [
        {
          "output_type": "execute_result",
          "data": {
            "text/plain": [
              "<BarContainer object of 8 artists>"
            ]
          },
          "metadata": {
            "tags": []
          },
          "execution_count": 71
        },
        {
          "output_type": "display_data",
          "data": {
            "image/png": "[encoded data removed]",
            "text/plain": [
              "<Figure size 432x288 with 1 Axes>"
            ]
          },
          "metadata": {
            "tags": [],
            "needs_background": "light"
          }
        }
      ]
    },
    {
      "cell_type": "markdown",
      "metadata": {
        "id": "5tt9EpTPY1mg"
      },
      "source": [
        "Note: If the count_frequencies valuse changes the graph also changes.\r\n",
        "\r\n",
        "The Below code is the full execution of the above sub codes."
      ]
    },
    {
      "cell_type": "code",
      "metadata": {
        "colab": {
          "base_uri": "https://localhost:8080/",
          "height": 282
        },
        "id": "FL0vDjGyZwpF",
        "outputId": "25bf0cfb-0717-43f4-8111-445c51040592"
      },
      "source": [
        "n=10\r\n",
        "p=0.3\r\n",
        "samplebn = binomial(n, p, size=100)\r\n",
        "X = binom(n, p)\r\n",
        "freqsbn = count_frequencies(samplebn, relative=True)\r\n",
        "plt.plot(x, X.pmf(x), 'o', color='blue')\r\n",
        "plt.bar(list(freqsbn.keys()), list(freqsbn.values()))"
      ],
      "execution_count": null,
      "outputs": [
        {
          "output_type": "execute_result",
          "data": {
            "text/plain": [
              "<BarContainer object of 8 artists>"
            ]
          },
          "metadata": {
            "tags": []
          },
          "execution_count": 70
        },
        {
          "output_type": "display_data",
          "data": {
            "image/png": "[encoded data removed]",
            "text/plain": [
              "<Figure size 432x288 with 1 Axes>"
            ]
          },
          "metadata": {
            "tags": [],
            "needs_background": "light"
          }
        }
      ]
    },
    {
      "cell_type": "markdown",
      "metadata": {
        "id": "OVhinbR0ZCxY"
      },
      "source": [
        "**CONTINUOUS RANDOM VARIABLES**\r\n",
        "\r\n",
        "The below example is using uniform distribution.\r\n"
      ]
    },
    {
      "cell_type": "code",
      "metadata": {
        "colab": {
          "base_uri": "https://localhost:8080/"
        },
        "id": "rG1RhWLais50",
        "outputId": "b58c56e8-639b-4936-a472-ba34224ecbcc"
      },
      "source": [
        "from numpy.random import uniform\r\n",
        "uniform(low=-2, high=2, size=10)"
      ],
      "execution_count": null,
      "outputs": [
        {
          "output_type": "execute_result",
          "data": {
            "text/plain": [
              "array([-1.35759983, -0.11872804,  1.98333623,  0.25790425,  0.95827278,\n",
              "       -0.31811659, -1.23312912, -1.0239398 ,  1.93363796,  1.68838816])"
            ]
          },
          "metadata": {
            "tags": []
          },
          "execution_count": 77
        }
      ]
    },
    {
      "cell_type": "markdown",
      "metadata": {
        "id": "_XMYg2dFkAaP"
      },
      "source": [
        "Now we will generate an histogram for the random valus in a desired range of values.\r\n"
      ]
    },
    {
      "cell_type": "code",
      "metadata": {
        "id": "5qBRCHp7kYB7"
      },
      "source": [
        "import matplotlib.pyplot as plt \r\n",
        "%matplotlib inline"
      ],
      "execution_count": null,
      "outputs": []
    },
    {
      "cell_type": "code",
      "metadata": {
        "colab": {
          "base_uri": "https://localhost:8080/",
          "height": 282
        },
        "id": "YM_8Tsm_k9yc",
        "outputId": "308d6bc7-25ff-4e53-a81e-ade896185e3a"
      },
      "source": [
        "data = [1, 3, 4.1, 4.2, 4.3, 5]\r\n",
        "plt.hist(data, bins=3, density=True)\r\n",
        "plt.plot(data, [0.1] * len(data), 'o')"
      ],
      "execution_count": null,
      "outputs": [
        {
          "output_type": "execute_result",
          "data": {
            "text/plain": [
              "[<matplotlib.lines.Line2D at 0x7fbfa5f9cf10>]"
            ]
          },
          "metadata": {
            "tags": []
          },
          "execution_count": 82
        },
        {
          "output_type": "display_data",
          "data": {
            "image/png": "[encoded data removed]",
            "text/plain": [
              "<Figure size 432x288 with 1 Axes>"
            ]
          },
          "metadata": {
            "tags": [],
            "needs_background": "light"
          }
        }
      ]
    },
    {
      "cell_type": "markdown",
      "metadata": {
        "id": "bpR-lD4BkuX7"
      },
      "source": [
        "Now we will generate the data for sample uniform data."
      ]
    },
    {
      "cell_type": "code",
      "metadata": {
        "colab": {
          "base_uri": "https://localhost:8080/",
          "height": 367
        },
        "id": "2ex_a8Lcl0jy",
        "outputId": "17513f94-4eac-403e-a6d4-4e1f361c3ac3"
      },
      "source": [
        "sample_un = uniform(low=-2, high=2, size=10000)\r\n",
        "plt.hist(sample_un, density=True)"
      ],
      "execution_count": null,
      "outputs": [
        {
          "output_type": "execute_result",
          "data": {
            "text/plain": [
              "(array([0.24201298, 0.25876388, 0.23976286, 0.25776382, 0.25326358,\n",
              "        0.26001394, 0.24326305, 0.24826331, 0.24576318, 0.25126347]),\n",
              " array([-1.99991269e+00, -1.59993414e+00, -1.19995559e+00, -7.99977040e-01,\n",
              "        -3.99998491e-01, -1.99427390e-05,  3.99958606e-01,  7.99937155e-01,\n",
              "         1.19991570e+00,  1.59989425e+00,  1.99987280e+00]),\n",
              " <a list of 10 Patch objects>)"
            ]
          },
          "metadata": {
            "tags": []
          },
          "execution_count": 89
        },
        {
          "output_type": "display_data",
          "data": {
            "image/png": "[encoded data removed]",
            "text/plain": [
              "<Figure size 432x288 with 1 Axes>"
            ]
          },
          "metadata": {
            "tags": [],
            "needs_background": "light"
          }
        }
      ]
    },
    {
      "cell_type": "markdown",
      "metadata": {
        "id": "mRVIp-0_mq7l"
      },
      "source": [
        "Now we will use scipy libraries for the stastical result to generate Probablity density function using pdf() function."
      ]
    },
    {
      "cell_type": "code",
      "metadata": {
        "colab": {
          "base_uri": "https://localhost:8080/"
        },
        "id": "Wl3CO4WynGwV",
        "outputId": "d9c99ebe-87a8-4e0d-c27f-cf4ee1748a12"
      },
      "source": [
        "import scipy.stats\r\n",
        "X_UN = scipy.stats.uniform(-2, 4)\r\n",
        "X_UN.pdf(1.2)"
      ],
      "execution_count": null,
      "outputs": [
        {
          "output_type": "execute_result",
          "data": {
            "text/plain": [
              "0.25"
            ]
          },
          "metadata": {
            "tags": []
          },
          "execution_count": 91
        }
      ]
    },
    {
      "cell_type": "markdown",
      "metadata": {
        "id": "2Eu66vzroKIE"
      },
      "source": [
        "Now we will generate a line grap for the pdf."
      ]
    },
    {
      "cell_type": "code",
      "metadata": {
        "id": "SBBD2YYPnlPf"
      },
      "source": [
        "import numpy as np\r\n",
        "x_un = np.linspace(-3, 3, 100)"
      ],
      "execution_count": null,
      "outputs": []
    },
    {
      "cell_type": "code",
      "metadata": {
        "colab": {
          "base_uri": "https://localhost:8080/",
          "height": 282
        },
        "id": "UnidNjr6nzDG",
        "outputId": "0ec691f8-5c54-4315-ae78-ea1db248ea46"
      },
      "source": [
        "plt.plot(x_un, X_UN.pdf(x_un))"
      ],
      "execution_count": null,
      "outputs": [
        {
          "output_type": "execute_result",
          "data": {
            "text/plain": [
              "[<matplotlib.lines.Line2D at 0x7fbfa5b6b250>]"
            ]
          },
          "metadata": {
            "tags": []
          },
          "execution_count": 94
        },
        {
          "output_type": "display_data",
          "data": {
            "image/png": "[encoded data removed]",
            "text/plain": [
              "<Figure size 432x288 with 1 Axes>"
            ]
          },
          "metadata": {
            "tags": [],
            "needs_background": "light"
          }
        }
      ]
    },
    {
      "cell_type": "markdown",
      "metadata": {
        "id": "E1v6dJU1oWHU"
      },
      "source": [
        "Now we will generate the graph that will show the combined result of the histogram and line graph.\r\n",
        "\r\n",
        "To show that the histogram corespiond to the probablity density function.\r\n"
      ]
    },
    {
      "cell_type": "code",
      "metadata": {
        "colab": {
          "base_uri": "https://localhost:8080/",
          "height": 367
        },
        "id": "5X6IoTamoiKE",
        "outputId": "27ffc88d-728b-4b9a-aaad-39a804c5e235"
      },
      "source": [
        "plt.plot(x_un, X_UN.pdf(x_un))\r\n",
        "sample_un = uniform(low=-2, high=2, size=10000)\r\n",
        "plt.hist(sample_un, density=True)"
      ],
      "execution_count": null,
      "outputs": [
        {
          "output_type": "execute_result",
          "data": {
            "text/plain": [
              "(array([0.23753787, 0.24953978, 0.25704098, 0.24603922, 0.25579078,\n",
              "        0.25429054, 0.25829118, 0.2527903 , 0.24028831, 0.24878966]),\n",
              " array([-1.99948967e+00, -1.59955343e+00, -1.19961720e+00, -7.99680963e-01,\n",
              "        -3.99744729e-01,  1.91505274e-04,  4.00127739e-01,  8.00063974e-01,\n",
              "         1.20000021e+00,  1.59993644e+00,  1.99987268e+00]),\n",
              " <a list of 10 Patch objects>)"
            ]
          },
          "metadata": {
            "tags": []
          },
          "execution_count": 95
        },
        {
          "output_type": "display_data",
          "data": {
            "image/png": "[encoded data removed]",
            "text/plain": [
              "<Figure size 432x288 with 1 Axes>"
            ]
          },
          "metadata": {
            "tags": [],
            "needs_background": "light"
          }
        }
      ]
    }
  ]
}